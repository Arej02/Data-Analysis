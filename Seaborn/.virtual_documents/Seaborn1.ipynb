import pandas as pd
import matplotlib.pylab as plt
import seaborn as sns
plt.style.use('fivethirtyeight')





tips=sns.load_dataset('tips')
tips.sample(3)


#Scatter Plot:
sns.relplot(data=tips,x='total_bill',y='tip',kind='scatter',hue='sex',style='smoker')

plt.show()


#Scatter Plot: (#Facet Plot)
sns.relplot(data=tips,x='total_bill',y='tip',kind='scatter',col='sex',color='red')

plt.show()


import plotly.express as px
gap = px.data.gapminder()
gap.sample(3)


nepal=gap[gap['country']=="Nepal"]


#Line Plot
sns.relplot(data=nepal,x='year',y='lifeExp',kind='line')

plt.show()


three_countries=gap[gap['country'].isin(['Nepal','Chad','Sao Tome and Principe'])]
three_countries


sns.relplot(data=three_countries,x='year',y='lifeExp',kind='line',hue='country')

plt.show()





tips.sample(3)


#Histogram
sns.displot(data=tips,x='total_bill',kind='hist')

plt.show()


sns.displot(data=tips,x='total_bill',col='sex',kind='hist',color='purple')

plt.show()


sns.displot(data=tips,x='tip',kind='kde',color='red')
sns.rugplot(data=tips,x='tip')

plt.show()





sns.catplot(data=tips,x='day',y='total_bill')

plt.show()


sns.catplot(data=tips,x='day',y='tip',kind='box')

plt.show()


sns.catplot(data=tips,x='day',y='tip',kind='box',hue='sex')

plt.show()


sns.catplot(data=tips,x='smoker',kind='count',color=['red','blue'])

plt.show()



