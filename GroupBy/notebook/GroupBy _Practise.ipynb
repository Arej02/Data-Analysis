{
 "cells": [
  {
   "cell_type": "code",
   "execution_count": 1,
   "id": "e3e73eb6-6301-4902-9f94-8cb2dcc7d987",
   "metadata": {},
   "outputs": [],
   "source": [
    "import pandas as pd"
   ]
  },
  {
   "cell_type": "code",
   "execution_count": 2,
   "id": "f54f102b-b13e-4c53-bfa0-1c6b3a06f4a3",
   "metadata": {},
   "outputs": [],
   "source": [
    "ipl=pd.read_csv(\"../dataset/deliveries.csv\")"
   ]
  },
  {
   "cell_type": "code",
   "execution_count": 3,
   "id": "363a14d1-e906-4dc3-875c-2df3ead48855",
   "metadata": {},
   "outputs": [
    {
     "data": {
      "text/html": [
       "<div>\n",
       "<style scoped>\n",
       "    .dataframe tbody tr th:only-of-type {\n",
       "        vertical-align: middle;\n",
       "    }\n",
       "\n",
       "    .dataframe tbody tr th {\n",
       "        vertical-align: top;\n",
       "    }\n",
       "\n",
       "    .dataframe thead th {\n",
       "        text-align: right;\n",
       "    }\n",
       "</style>\n",
       "<table border=\"1\" class=\"dataframe\">\n",
       "  <thead>\n",
       "    <tr style=\"text-align: right;\">\n",
       "      <th></th>\n",
       "      <th>match_id</th>\n",
       "      <th>inning</th>\n",
       "      <th>batting_team</th>\n",
       "      <th>bowling_team</th>\n",
       "      <th>over</th>\n",
       "      <th>ball</th>\n",
       "      <th>batsman</th>\n",
       "      <th>non_striker</th>\n",
       "      <th>bowler</th>\n",
       "      <th>is_super_over</th>\n",
       "      <th>...</th>\n",
       "      <th>bye_runs</th>\n",
       "      <th>legbye_runs</th>\n",
       "      <th>noball_runs</th>\n",
       "      <th>penalty_runs</th>\n",
       "      <th>batsman_runs</th>\n",
       "      <th>extra_runs</th>\n",
       "      <th>total_runs</th>\n",
       "      <th>player_dismissed</th>\n",
       "      <th>dismissal_kind</th>\n",
       "      <th>fielder</th>\n",
       "    </tr>\n",
       "  </thead>\n",
       "  <tbody>\n",
       "    <tr>\n",
       "      <th>177300</th>\n",
       "      <td>11344</td>\n",
       "      <td>2</td>\n",
       "      <td>Delhi Capitals</td>\n",
       "      <td>Rajasthan Royals</td>\n",
       "      <td>1</td>\n",
       "      <td>6</td>\n",
       "      <td>S Dhawan</td>\n",
       "      <td>P Shaw</td>\n",
       "      <td>K Gowtham</td>\n",
       "      <td>0</td>\n",
       "      <td>...</td>\n",
       "      <td>0</td>\n",
       "      <td>0</td>\n",
       "      <td>0</td>\n",
       "      <td>0</td>\n",
       "      <td>1</td>\n",
       "      <td>0</td>\n",
       "      <td>1</td>\n",
       "      <td>NaN</td>\n",
       "      <td>NaN</td>\n",
       "      <td>NaN</td>\n",
       "    </tr>\n",
       "    <tr>\n",
       "      <th>120312</th>\n",
       "      <td>507</td>\n",
       "      <td>2</td>\n",
       "      <td>Sunrisers Hyderabad</td>\n",
       "      <td>Chennai Super Kings</td>\n",
       "      <td>9</td>\n",
       "      <td>8</td>\n",
       "      <td>DA Warner</td>\n",
       "      <td>S Dhawan</td>\n",
       "      <td>RA Jadeja</td>\n",
       "      <td>0</td>\n",
       "      <td>...</td>\n",
       "      <td>0</td>\n",
       "      <td>0</td>\n",
       "      <td>0</td>\n",
       "      <td>0</td>\n",
       "      <td>1</td>\n",
       "      <td>0</td>\n",
       "      <td>1</td>\n",
       "      <td>NaN</td>\n",
       "      <td>NaN</td>\n",
       "      <td>NaN</td>\n",
       "    </tr>\n",
       "    <tr>\n",
       "      <th>35116</th>\n",
       "      <td>151</td>\n",
       "      <td>1</td>\n",
       "      <td>Deccan Chargers</td>\n",
       "      <td>Kings XI Punjab</td>\n",
       "      <td>4</td>\n",
       "      <td>3</td>\n",
       "      <td>AC Gilchrist</td>\n",
       "      <td>HH Gibbs</td>\n",
       "      <td>S Sreesanth</td>\n",
       "      <td>0</td>\n",
       "      <td>...</td>\n",
       "      <td>0</td>\n",
       "      <td>0</td>\n",
       "      <td>0</td>\n",
       "      <td>0</td>\n",
       "      <td>0</td>\n",
       "      <td>0</td>\n",
       "      <td>0</td>\n",
       "      <td>NaN</td>\n",
       "      <td>NaN</td>\n",
       "      <td>NaN</td>\n",
       "    </tr>\n",
       "    <tr>\n",
       "      <th>86847</th>\n",
       "      <td>367</td>\n",
       "      <td>2</td>\n",
       "      <td>Mumbai Indians</td>\n",
       "      <td>Royal Challengers Bangalore</td>\n",
       "      <td>20</td>\n",
       "      <td>4</td>\n",
       "      <td>KA Pollard</td>\n",
       "      <td>AT Rayudu</td>\n",
       "      <td>CH Gayle</td>\n",
       "      <td>0</td>\n",
       "      <td>...</td>\n",
       "      <td>0</td>\n",
       "      <td>0</td>\n",
       "      <td>0</td>\n",
       "      <td>0</td>\n",
       "      <td>4</td>\n",
       "      <td>0</td>\n",
       "      <td>4</td>\n",
       "      <td>NaN</td>\n",
       "      <td>NaN</td>\n",
       "      <td>NaN</td>\n",
       "    </tr>\n",
       "    <tr>\n",
       "      <th>113196</th>\n",
       "      <td>478</td>\n",
       "      <td>1</td>\n",
       "      <td>Chennai Super Kings</td>\n",
       "      <td>Kolkata Knight Riders</td>\n",
       "      <td>4</td>\n",
       "      <td>4</td>\n",
       "      <td>BB McCullum</td>\n",
       "      <td>SK Raina</td>\n",
       "      <td>SP Narine</td>\n",
       "      <td>0</td>\n",
       "      <td>...</td>\n",
       "      <td>0</td>\n",
       "      <td>0</td>\n",
       "      <td>0</td>\n",
       "      <td>0</td>\n",
       "      <td>1</td>\n",
       "      <td>0</td>\n",
       "      <td>1</td>\n",
       "      <td>NaN</td>\n",
       "      <td>NaN</td>\n",
       "      <td>NaN</td>\n",
       "    </tr>\n",
       "  </tbody>\n",
       "</table>\n",
       "<p>5 rows × 21 columns</p>\n",
       "</div>"
      ],
      "text/plain": [
       "        match_id  inning         batting_team                 bowling_team  \\\n",
       "177300     11344       2       Delhi Capitals             Rajasthan Royals   \n",
       "120312       507       2  Sunrisers Hyderabad          Chennai Super Kings   \n",
       "35116        151       1      Deccan Chargers              Kings XI Punjab   \n",
       "86847        367       2       Mumbai Indians  Royal Challengers Bangalore   \n",
       "113196       478       1  Chennai Super Kings        Kolkata Knight Riders   \n",
       "\n",
       "        over  ball       batsman non_striker       bowler  is_super_over  ...  \\\n",
       "177300     1     6      S Dhawan      P Shaw    K Gowtham              0  ...   \n",
       "120312     9     8     DA Warner    S Dhawan    RA Jadeja              0  ...   \n",
       "35116      4     3  AC Gilchrist    HH Gibbs  S Sreesanth              0  ...   \n",
       "86847     20     4    KA Pollard   AT Rayudu     CH Gayle              0  ...   \n",
       "113196     4     4   BB McCullum    SK Raina    SP Narine              0  ...   \n",
       "\n",
       "        bye_runs  legbye_runs  noball_runs  penalty_runs  batsman_runs  \\\n",
       "177300         0            0            0             0             1   \n",
       "120312         0            0            0             0             1   \n",
       "35116          0            0            0             0             0   \n",
       "86847          0            0            0             0             4   \n",
       "113196         0            0            0             0             1   \n",
       "\n",
       "        extra_runs  total_runs  player_dismissed dismissal_kind fielder  \n",
       "177300           0           1               NaN            NaN     NaN  \n",
       "120312           0           1               NaN            NaN     NaN  \n",
       "35116            0           0               NaN            NaN     NaN  \n",
       "86847            0           4               NaN            NaN     NaN  \n",
       "113196           0           1               NaN            NaN     NaN  \n",
       "\n",
       "[5 rows x 21 columns]"
      ]
     },
     "execution_count": 3,
     "metadata": {},
     "output_type": "execute_result"
    }
   ],
   "source": [
    "ipl.sample(5)"
   ]
  },
  {
   "cell_type": "code",
   "execution_count": 4,
   "id": "3dd918e5-6854-4a95-9b7d-8700e8ce3783",
   "metadata": {},
   "outputs": [
    {
     "data": {
      "text/plain": [
       "Index(['match_id', 'inning', 'batting_team', 'bowling_team', 'over', 'ball',\n",
       "       'batsman', 'non_striker', 'bowler', 'is_super_over', 'wide_runs',\n",
       "       'bye_runs', 'legbye_runs', 'noball_runs', 'penalty_runs',\n",
       "       'batsman_runs', 'extra_runs', 'total_runs', 'player_dismissed',\n",
       "       'dismissal_kind', 'fielder'],\n",
       "      dtype='object')"
      ]
     },
     "execution_count": 4,
     "metadata": {},
     "output_type": "execute_result"
    }
   ],
   "source": [
    "ipl.columns"
   ]
  },
  {
   "cell_type": "code",
   "execution_count": 5,
   "id": "b47719e5-cd77-41a4-89b6-e7d192c5df9d",
   "metadata": {},
   "outputs": [
    {
     "data": {
      "text/plain": [
       "batsman\n",
       "V Kohli           5434\n",
       "SK Raina          5415\n",
       "RG Sharma         4914\n",
       "DA Warner         4741\n",
       "S Dhawan          4632\n",
       "CH Gayle          4560\n",
       "MS Dhoni          4477\n",
       "RV Uthappa        4446\n",
       "AB de Villiers    4428\n",
       "G Gambhir         4223\n",
       "Name: batsman_runs, dtype: int64"
      ]
     },
     "execution_count": 5,
     "metadata": {},
     "output_type": "execute_result"
    }
   ],
   "source": [
    "#Find the top 10 batsman in terms of runs:\n",
    "runs=ipl.groupby('batsman')\n",
    "runs['batsman_runs'].sum().sort_values(ascending=False).head(10)"
   ]
  },
  {
   "cell_type": "code",
   "execution_count": 6,
   "id": "f467ffc5-0f5f-4aa8-b567-9a31e17c007c",
   "metadata": {},
   "outputs": [
    {
     "data": {
      "text/plain": [
       "batsman\n",
       "CH Gayle          327\n",
       "AB de Villiers    214\n",
       "MS Dhoni          207\n",
       "SK Raina          195\n",
       "RG Sharma         194\n",
       "Name: batsman, dtype: int64"
      ]
     },
     "execution_count": 6,
     "metadata": {},
     "output_type": "execute_result"
    }
   ],
   "source": [
    "#Find the batsman with maximum number of sixes:\n",
    "six=ipl[ipl['batsman_runs']==6]\n",
    "six.groupby('batsman')['batsman'].count().sort_values(ascending=False).head(5)"
   ]
  },
  {
   "cell_type": "code",
   "execution_count": 7,
   "id": "6e775159-4a1b-4acf-bf35-2b899ef08f5c",
   "metadata": {},
   "outputs": [
    {
     "data": {
      "text/plain": [
       "'MS Dhoni'"
      ]
     },
     "execution_count": 7,
     "metadata": {},
     "output_type": "execute_result"
    }
   ],
   "source": [
    "#Find the batsman with maximum number of sixes and fours in the last five overs:\n",
    "overs=ipl[ipl['over']>=15]\n",
    "final_runs=overs[(overs['batsman_runs']==6) | (overs['batsman_runs']==4)]\n",
    "final_runs.groupby('batsman')['batsman'].count().sort_values(ascending=False).head(5).index[0]"
   ]
  },
  {
   "cell_type": "code",
   "execution_count": 8,
   "id": "58443fb5-39b8-4276-a5a6-849e8742a213",
   "metadata": {},
   "outputs": [],
   "source": [
    "#Find Virat Kolhi's run against each team:\n",
    "vk=ipl[ipl['batsman']=='V Kohli']"
   ]
  },
  {
   "cell_type": "code",
   "execution_count": 9,
   "id": "b2b1e0a0-42a8-4d69-ac3b-74518f8889af",
   "metadata": {},
   "outputs": [
    {
     "data": {
      "text/plain": [
       "batting_team                 bowling_team           \n",
       "Royal Challengers Bangalore  Delhi Daredevils           763\n",
       "                             Chennai Super Kings        749\n",
       "                             Kolkata Knight Riders      675\n",
       "                             Kings XI Punjab            636\n",
       "                             Mumbai Indians             628\n",
       "                             Sunrisers Hyderabad        509\n",
       "                             Rajasthan Royals           370\n",
       "                             Deccan Chargers            306\n",
       "                             Gujarat Lions              283\n",
       "                             Rising Pune Supergiants    188\n",
       "                             Pune Warriors              128\n",
       "                             Rising Pune Supergiant      83\n",
       "                             Delhi Capitals              66\n",
       "                             Kochi Tuskers Kerala        50\n",
       "Name: batsman_runs, dtype: int64"
      ]
     },
     "execution_count": 9,
     "metadata": {},
     "output_type": "execute_result"
    }
   ],
   "source": [
    "vk.groupby(['batting_team', 'bowling_team'])['batsman_runs'].sum().sort_values(ascending=False)"
   ]
  },
  {
   "cell_type": "code",
   "execution_count": 10,
   "id": "0ed3046f-504d-4173-8319-f391a54ee328",
   "metadata": {},
   "outputs": [],
   "source": [
    "#Create a function that can return the highest score of any batsman:\n",
    "def highest_runs(name):\n",
    "    batsman=ipl[ipl['batsman']==name]\n",
    "    runs=batsman.groupby('match_id')['batsman_runs'].sum()\n",
    "    highest_score=runs.max()\n",
    "    return highest_score\n",
    "    "
   ]
  },
  {
   "cell_type": "code",
   "execution_count": 12,
   "id": "159076f3-fbd2-4b97-8df9-370f1d8e7f07",
   "metadata": {},
   "outputs": [
    {
     "data": {
      "text/plain": [
       "175"
      ]
     },
     "execution_count": 12,
     "metadata": {},
     "output_type": "execute_result"
    }
   ],
   "source": [
    "highest_runs('CH Gayle')"
   ]
  },
  {
   "cell_type": "code",
   "execution_count": 13,
   "id": "742efa38-b4f3-4856-9651-82c1f0c8724c",
   "metadata": {},
   "outputs": [],
   "source": [
    "#Random Practise\n",
    "names=pd.Series(ipl['batsman'].unique()).sort_values(ascending=False)"
   ]
  },
  {
   "cell_type": "code",
   "execution_count": 14,
   "id": "5b0e970f-2154-4aef-bec2-a5611f5323e6",
   "metadata": {},
   "outputs": [
    {
     "name": "stdout",
     "output_type": "stream",
     "text": [
      "227        YV Takawale\n",
      "180    Y Venugopal Rao\n",
      "186         WPUJC Vaas\n",
      "46        Vishnu Vinod\n",
      "208          VY Mahesh\n",
      "181         VVS Laxman\n",
      "258        VS Yeligati\n",
      "336           VS Malik\n",
      "202          VRV Singh\n",
      "86            VR Aaron\n",
      "437             VH Zol\n",
      "81           V Shankar\n",
      "170           V Sehwag\n",
      "399     V Pratap Singh\n",
      "87             V Kohli\n",
      "52           SV Samson\n",
      "222           S Vidyut\n",
      "64          RV Uthappa\n",
      "348           RV Gomez\n",
      "203      R Vinay Kumar\n",
      "430           PV Tambe\n",
      "272        PC Valthaty\n",
      "80             NV Ojha\n",
      "151         MV Boucher\n",
      "41             M Vohra\n",
      "289            M Vijay\n",
      "120          KV Sharma\n",
      "388           HV Patel\n",
      "499          H Viljoen\n",
      "496           H Vihari\n",
      "411          GH Vihari\n",
      "252      DP Vijaykumar\n",
      "280         DL Vettori\n",
      "326           AC Voges\n",
      "71      AB de Villiers\n",
      "dtype: object\n"
     ]
    }
   ],
   "source": [
    "filtered_names=names.apply(lambda x:\"V\" in x)\n",
    "print(names[filtered_names])"
   ]
  },
  {
   "cell_type": "code",
   "execution_count": null,
   "id": "e601849a-c559-4069-b433-55709a455185",
   "metadata": {},
   "outputs": [],
   "source": []
  }
 ],
 "metadata": {
  "kernelspec": {
   "display_name": "Python 3 (ipykernel)",
   "language": "python",
   "name": "python3"
  },
  "language_info": {
   "codemirror_mode": {
    "name": "ipython",
    "version": 3
   },
   "file_extension": ".py",
   "mimetype": "text/x-python",
   "name": "python",
   "nbconvert_exporter": "python",
   "pygments_lexer": "ipython3",
   "version": "3.12.7"
  }
 },
 "nbformat": 4,
 "nbformat_minor": 5
}
