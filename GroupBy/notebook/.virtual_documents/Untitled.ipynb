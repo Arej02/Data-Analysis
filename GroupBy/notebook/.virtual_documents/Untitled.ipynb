import pandas as pd


ipl=pd.read_csv("../dataset/deliveries.csv")


ipl.sample(5)


ipl.columns


#Find the top 10 batsman in terms of runs:
runs=ipl.groupby('batsman')
runs['batsman_runs'].sum().sort_values(ascending=False).head(10)


#Find the batsman with maximum number of sixes:
six=ipl[ipl['batsman_runs']==6]
six.groupby('batsman')['batsman'].count().sort_values(ascending=False).head(5)


#Find the batsman with maximum number of sixes and fours in the last five overs:
overs=ipl[ipl['over']>=15]
final_runs=overs[(overs['batsman_runs']==6) | (overs['batsman_runs']==4)]
final_runs.groupby('batsman')['batsman'].count().sort_values(ascending=False).head(5).index[0]


#Find Virat Kolhi's run against each team:
vk=ipl[ipl['batsman']=='V Kohli']


vk.groupby(['batting_team', 'bowling_team'])['batsman_runs'].sum().sort_values(ascending=False)


#Create a function that can return the highest score of any batsman:
def highest_runs(name):
    batsman=ipl[ipl['batsman']==name]
    runs=batsman.groupby('match_id')['batsman_runs'].sum()
    highest_score=runs.max()
    return highest_score
    


vk=ipl[ipl['batsman']=='V Kohli']
sum=vk.groupby('match_id')['batsman_runs'].sum()
sum.max()


highest_runs('CH Gayle')


names=pd.Series(ipl['batsman'].unique()).sort_values(ascending=False)


filtered_names=names.apply(lambda x:"V" in x)
print(names[filtered_names])



