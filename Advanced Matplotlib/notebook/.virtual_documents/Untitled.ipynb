import pandas as pd
import matplotlib.pylab as plt


iris=pd.read_csv("../dataset/iris.csv")


iris.sample(5)


iris['species_cat']=iris['Species'].replace({'Iris-setosa':1,'Iris-virginica':2,'Iris-versicolor':3})
iris.sample(5)


#Scatterplot (3-D):
plt.figure(figsize=(18,10))
plt.scatter(iris['SepalLengthCm'],iris['PetalLengthCm'],c=iris['species_cat'])

plt.title("Sepal Length VS Petal Length of different categories")
plt.xlabel("Sepal Length")
plt.ylabel("Petal Length")

plt.colorbar()
plt.show()


batsman=pd.read_csv("../dataset/batter.csv")
batsman=batsman.sample(30,random_state=42)
batsman.sample(5)


plt.figure(figsize=(18,10))
plt.scatter(batsman['strike_rate'],batsman['avg'],s=batsman['runs'])

for i in range(batsman.shape[0]):
    plt.text(batsman['strike_rate'].values[i],batsman['avg'].values[i],batsman['batter'].values[i])

plt.axvline(120,color='red')
plt.axhline(20,color='red')

plt.show()
