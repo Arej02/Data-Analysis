import pandas as pd


nov=pd.read_csv("../dataset/reg-month1.csv")
dec=pd.read_csv("../dataset/reg-month2.csv")


nov.sample(3)


dec.sample(3)


#Vertical Stacking:
rego=pd.concat([nov,dec],ignore_index=True) #This will make sure that the indexed are not repeated
rego


#Horizontal Concatenation:
regoh=pd.concat([nov,dec],axis=1)
regoh





#Inner join
student=pd.read_csv("../dataset/students.csv")
student.sample(3)


student.merge(rego,how="inner",on="student_id")


#Find the total revenue generated:
course=pd.read_csv("../dataset/courses.csv")
course.head()


course_rego=course.merge(rego,how='inner',on='course_id')
course_rego


total_revenue=course_rego['price'].sum()
print(f"The total revenue is Rs.{total_revenue}.")


#Find the month by month revenue:
rego2=pd.concat([nov,dec],keys=['nov','dec']).reset_index()
course_rego2=rego2.merge(course,on='course_id')
month_revenue=course_rego2.groupby('level_0')['price'].sum()
month_revenue


#Print the registration table(name->course->price)
student.merge(rego,on='student_id').merge(course,on='course_id')[['name','course_name','price']]
#You can merge 3 tables and extract the features that you want.


#Plot bar-chart for revenue and course:
import matplotlib.pylab as plt
plt.style.use('fivethirtyeight')

price_per_course=course_rego.groupby('course_name')['price'].sum().plot(kind='bar')
plt.show()


#Find the students who enrolled in both november and december:
rego3=pd.concat([nov,dec],keys=['nov','dec']).reset_index()
student_rego3=student.merge(rego3,on='student_id')
both_months=student_rego3.groupby('student_id')['level_0'].nunique()
students_in_both = both_months[both_months == 2].index

student[student['student_id'].isin(students_in_both)]


#Find the courses that got no enrollment:
course_rego=course.merge(rego,on='course_id',how='left').merge(student,on='student_id',how='left')
no_enrollment=course_rego.groupby('course_name')['student_id'].nunique()
no_one=no_enrollment[no_enrollment == 0].index

course[course['course_name'].isin(no_one)]


#Find the top three students who did the most number of enrollments
student_rego=student.merge(rego,on='student_id')
student_rego.groupby(['student_id','name'])['course_id'].count().sort_values(ascending=False).head(3)



#Find the student who spend the most amount of money in the course:
student.merge(rego,on='student_id').merge(course,on='course_id').groupby(['student_id','name'])['price'].sum().sort_values(ascending=False).head(3)


ipl=pd.read_csv("../dataset/matches.csv")
ipl.sample(3)


balls=pd.read_csv("../dataset/deliveries.csv")
balls.sample(3)


#Find the top 3 stadiums with highest sixes to match ratio
stadium=balls.merge(ipl,left_on='match_id',right_on='id')
sixes=stadium[stadium['batsman_runs']==6]
sixes_stadium=sixes.groupby('venue')['venue'].count()


matches_stadium=ipl['venue'].value_counts()
matches_stadium


(sixes_stadium/matches_stadium).sort_values(ascending=False).head(3)


#Find the orange cap holder:
stadium.groupby(['season','batsman'])['batsman_runs'].sum().reset_index().sort_values(ascending=False)



