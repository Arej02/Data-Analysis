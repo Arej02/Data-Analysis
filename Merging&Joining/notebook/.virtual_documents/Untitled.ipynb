import pandas as pd


nov=pd.read_csv("../dataset/reg-month1.csv")
dec=pd.read_csv("../dataset/reg-month2.csv")


nov.sample(3)


dec.sample(3)


#Vertical Stacking:
rego=pd.concat([nov,dec],ignore_index=True) #This will make sure that the indexed are not repeated
rego


#Horizontal Concatenation:
regoh=pd.concat([nov,dec],axis=1)
regoh





#Inner join
student=pd.read_csv("../dataset/students.csv")
student.sample(3)


student.merge(rego,how="inner",on="student_id")


#Find the total revenue generated:
course=pd.read_csv("../dataset/courses.csv")
course.head()


course_rego=course.merge(rego,how='inner',on='course_id')
course_rego


total_revenue=course_rego['price'].sum()
print(f"The total revenue is Rs.{total_revenue}.")


#Find the month by month revenue:
rego2=pd.concat([nov,dec],keys=['nov','dec']).reset_index()
course_rego2=rego2.merge(course,on='course_id')
month_revenue=course_rego2.groupby('level_0')['price'].sum()
month_revenue


#Print the registration table(name->course->price)
student.merge(rego,on='student_id').merge(course,on='course_id')[['name','course_name','price']]
#You can merge 3 tables and extract the features that you want.


#Plot bar-chart for revenue and course:
import matplotlib.pylab as plt
plt.style.use('fivethirtyeight')

price_per_course=course_rego.groupby('course_name')['price'].sum().plot(kind='bar')
plt.show()


#Find the students who enrolled in both november and december:
student.merge(rego,on='student_id').merge(course,on='course_id')



