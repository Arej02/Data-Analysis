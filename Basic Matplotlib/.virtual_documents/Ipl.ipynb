import pandas as pd
import matplotlib.pylab as plt
plt.style.use('fivethirtyeight')


ipl=pd.read_csv("./datasets/ipl-matches.csv")


ipl.head()


#How many matches has CSK won in Kolkata?
ipl[(ipl['City']=='Kolkata') & (ipl['WinningTeam']=='Chennai Super Kings')].shape[0]





#How benefical is winning the toss?
(ipl[ipl['TossWinner']==ipl['WinningTeam']].shape[0]/ipl.shape[0])*100





runs=pd.read_csv("./datasets/sharma-kohli.csv")
runs.head()


#Line Plot
plt.plot(runs['index'],runs['V Kohli'],label="Virat Kolhi",marker='D')
plt.plot(runs['index'],runs['RG Sharma'],label="Rohit Sharma",marker='D')

plt.title("Runs scored by Virat and Rohit")
plt.xlabel("Years")
plt.ylabel("Runs")

plt.legend()
plt.grid()
plt.show()





batsman=pd.read_csv("./datasets/batter.csv")
batsman=batsman.head(50)


#Scatter Plot of top 50 ipl batsman
plt.scatter(batsman['avg'],batsman['strike_rate'])

plt.title("Strike rate and average runs of top 50 ipl batsman")
plt.xlabel("Average Runs")
plt.ylabel("Strike Rate")


plt.grid()





record=pd.read_csv("./datasets/batsman_season_record.csv")


record.head()


#Single Barplot:
plt.bar(record['batsman'],record['2015'],color='red')
plt.title("Runs scored by 5 batsman in season 2015 of IPL")
plt.xlabel("Players")
plt.ylabel("Runs")

plt.show()


#Multiple Barplot:
import numpy as np
plt.bar(np.arange(record.shape[0])-0.2,record['2015'],width=0.2)
plt.bar(np.arange(record.shape[0]),record['2016'],width=0.2)
plt.bar(np.arange(record.shape[0])+0.2,record['2017'],width=0.2)

plt.title("Runs of top 5 batsman in season 2015,2016,2017")
plt.xlabel("Players")
plt.ylabel("Runs")

plt.xticks(np.arange(record.shape[0]),record['batsman'])

plt.show()





#Stacked Barplot:
plt.bar(record['batsman'],record['2015'])
plt.bar(record['batsman'],record['2016'],bottom=record['2015'])
plt.bar(record['batsman'],record['2017'],bottom=(record['2015']+record['2016']))

plt.title("Runs of top 5 batsman in season 2015,2016,2017")
plt.xlabel("Players")
plt.ylabel("Runs")

plt.show()





vk=pd.read_csv("./datasets/vk.csv")
vk.head()


#Histogram
plt.hist(vk['batsman_runs'],bins=[0,10,20,30,40,50,60,70,80,90,100,110,120])

plt.title("Runs scored by Virat Kolhi in various matches")
plt.xlabel("Runs")
plt.ylabel("Frequency")

plt.show()





gayle=pd.read_csv("./datasets/gayle-175.csv")
gayle=gayle.head(3)
gayle.head()


#PieChart
plt.pie(gayle['batsman_runs'],labels=gayle['batsman'],autopct='%0.1f%%',explode=[0.2,0,0],shadow=True)

plt.title("Percentage runs scored in a match by 3 batsman")
plt.show()



