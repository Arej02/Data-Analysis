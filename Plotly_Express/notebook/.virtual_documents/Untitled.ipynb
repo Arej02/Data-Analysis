import plotly.express as px


gap=px.data.gapminder()


gap.tail()


gap_2007=gap[gap['year']==2007]
gap_2007.head()


px.scatter(gap_2007,x='lifeExp',
           y='gdpPercap',
           color='continent',
           size='pop',size_max=100,
           hover_name='country')


px.scatter(gap,x='lifeExp',
           y='gdpPercap',
           color='continent',
           size='pop',size_max=100,
           hover_name='country',
          animation_name='year')



